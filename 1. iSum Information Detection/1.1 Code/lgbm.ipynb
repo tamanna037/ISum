{
  "cells": [
    {
      "cell_type": "code",
      "execution_count": null,
      "metadata": {
        "id": "FdFZYSWctHiE",
        "colab": {
          "base_uri": "https://localhost:8080/"
        },
        "outputId": "4d9fb54c-f95d-42c6-892e-53431014920e"
      },
      "outputs": [
        {
          "output_type": "stream",
          "name": "stdout",
          "text": [
            "Installing collected packages: Mako, colorlog, alembic, optuna\n",
            "Successfully installed Mako-1.3.3 alembic-1.13.1 colorlog-6.8.2 optuna-3.6.1\n"
          ]
        }
      ],
      "source": [
        "!pip install optuna"
      ]
    },
    {
      "cell_type": "code",
      "source": [
        "!pip install optuna_integration"
      ],
      "metadata": {
        "id": "4UkRSUhX9rsp"
      },
      "execution_count": null,
      "outputs": []
    },
    {
      "cell_type": "code",
      "execution_count": null,
      "metadata": {
        "id": "mN8UWLiw3D56"
      },
      "outputs": [],
      "source": [
        "# ignore warnings\n",
        "import warnings\n",
        "import logging\n",
        "warnings.filterwarnings(\"ignore\")\n",
        "logging.getLogger('lightgbm').setLevel(logging.ERROR)\n",
        "warnings.filterwarnings(\"ignore\", category=FutureWarning)\n",
        "warnings.filterwarnings(\"ignore\", category=UserWarning)"
      ]
    },
    {
      "cell_type": "code",
      "execution_count": null,
      "metadata": {
        "colab": {
          "base_uri": "https://localhost:8080/"
        },
        "id": "4jXcwxq_3WCb",
        "outputId": "41dfba44-25f9-40cd-dde9-f87cb142ec5f"
      },
      "outputs": [
        {
          "output_type": "stream",
          "name": "stdout",
          "text": [
            "Mounted at /content/drive/\n"
          ]
        }
      ],
      "source": [
        "from google.colab import drive\n",
        "drive.mount('/content/drive/')"
      ]
    },
    {
      "cell_type": "markdown",
      "metadata": {
        "id": "DPgjCVAw3D56"
      },
      "source": [
        "## **Read dataset**"
      ]
    },
    {
      "cell_type": "code",
      "execution_count": null,
      "metadata": {
        "id": "W8CYLqgy3YlC"
      },
      "outputs": [],
      "source": [
        "\n",
        "project_path = '/content/drive/My Drive/Code Documentation Project/Issue Classification/'"
      ]
    },
    {
      "cell_type": "code",
      "execution_count": null,
      "metadata": {
        "colab": {
          "base_uri": "https://localhost:8080/"
        },
        "id": "AA3areym3D56",
        "outputId": "4b15fe8a-f255-41c7-8478-cbd73838b8ed"
      },
      "outputs": [
        {
          "output_type": "stream",
          "name": "stdout",
          "text": [
            "4330\n"
          ]
        }
      ],
      "source": [
        "from numpy import loadtxt\n",
        "import pandas as pd\n",
        "from tensorflow.keras.utils import to_categorical  # convert to one-hot-encoding\n",
        "from sklearn import preprocessing\n",
        "\n",
        "\n",
        "issue_df = pd.read_csv(project_path+'literature_comments_dataset.csv')\n",
        "#issue_df = pd.read_csv(project_path+'Dataset2.csv')\n",
        "\n",
        "\n",
        "label_encoder = preprocessing.LabelEncoder()\n",
        "label_encoder.fit(issue_df['Code'])\n",
        "issue_df['Code (Original)'] = issue_df['Code']\n",
        "issue_df['Code'] = label_encoder.transform(issue_df['Code'])\n",
        "\n",
        "#number_of_class\n",
        "class_id_map_df = issue_df.drop_duplicates(subset=['Code'])\n",
        "total_class=len(class_id_map_df)\n",
        "encoded_label_list = class_id_map_df['Code'].to_list()\n",
        "original_label_list = class_id_map_df['Code (Original)'].to_list()\n",
        "class_id_map = dict(zip(encoded_label_list, original_label_list))\n",
        "\n",
        "categ = ['aa','begauth','has_code','first_turn','last_turn']\n",
        "le = preprocessing.LabelEncoder()\n",
        "issue_df[categ] = issue_df[categ].apply(le.fit_transform)\n",
        "\n",
        "print(len(issue_df))\n"
      ]
    },
    {
      "cell_type": "code",
      "execution_count": null,
      "metadata": {
        "id": "jSe-3G6kVtwU"
      },
      "outputs": [],
      "source": [
        "issue_df['Code (Original)'].value_counts()"
      ]
    },
    {
      "cell_type": "code",
      "execution_count": null,
      "metadata": {
        "id": "gir2oCEv5bOU"
      },
      "outputs": [],
      "source": [
        "from sklearn.feature_extraction.text import TfidfVectorizer\n",
        "from sklearn.metrics import classification_report\n",
        "import optuna_integration.lightgbm\n",
        "import lightgbm as lgb\n",
        "import numpy as np\n",
        "from lightgbm import early_stopping\n",
        "import sklearn.datasets\n",
        "from sklearn.metrics import accuracy_score\n",
        "from sklearn.model_selection import train_test_split\n",
        "import optuna\n",
        "\n",
        "Fold=10\n",
        "tfidf_vectorizer = TfidfVectorizer(max_features=10000)  # Adjust max_features as needed\n",
        "for fold in range(1,Fold+1):\n",
        "    features=['len','tloc','cloc','tpos1','tpos2','clen','tlen','ppau','npau','aa','begauth','has_code','first_turn','last_turn']\n",
        "\n",
        "    train_df=pd.read_csv(project_path+'/KFold/Literature/train_fold'+str(fold)+'.csv')\n",
        "    X_train_tfidf = tfidf_vectorizer.fit_transform(train_df['Text Content'])\n",
        "    X_train_tfidf_df = pd.DataFrame(X_train_tfidf.toarray(), columns=tfidf_vectorizer.get_feature_names_out())\n",
        "    print(X_train_tfidf.shape)\n",
        "\n",
        "    val_df=pd.read_csv(project_path+'/KFold/Literature/val_fold'+str(fold)+'.csv')\n",
        "    X_val_tfidf   = tfidf_vectorizer.transform(val_df['Text Content'])\n",
        "    X_val_tfidf_df   = pd.DataFrame(X_val_tfidf.toarray(),   columns=tfidf_vectorizer.get_feature_names_out())\n",
        "    print(X_val_tfidf.shape)\n",
        "\n",
        "    test_df=pd.read_csv(project_path+'/KFold/Literature/test_fold'+str(fold)+'.csv')\n",
        "    X_test_tfidf  = tfidf_vectorizer.transform(test_df['Text Content'])\n",
        "    X_test_tfidf_df  = pd.DataFrame(X_test_tfidf.toarray(),  columns=tfidf_vectorizer.get_feature_names_out())\n",
        "    print(X_test_tfidf.shape)\n",
        "\n",
        "    X_train = train_df[features] #'Full Length',\n",
        "    X_train = pd.concat([train_df[features], X_train_tfidf_df], axis=1)\n",
        "    print(X_train.shape)\n",
        "    y_train = train_df['Code']\n",
        "\n",
        "    X_val= val_df[features] #'Full Length',\n",
        "    X_val = pd.concat([val_df[features], X_val_tfidf_df], axis=1)\n",
        "    print(X_val.shape)\n",
        "    y_val = val_df['Code']\n",
        "\n",
        "    X_test = test_df[features] #'Full Length',\n",
        "    X_test = pd.concat([test_df[features], X_test_tfidf_df], axis=1)\n",
        "    print(X_test.shape)\n",
        "    print(X_val.shape)\n",
        "    y_test = test_df['Code']\n",
        "\n",
        "\n",
        "    dtrain = lgb.Dataset(X_train, label=y_train)\n",
        "    dval = lgb.Dataset(X_val, label=y_val)\n",
        "\n",
        "\n",
        "    params = {\n",
        "        \"objective\": \"multiclass\",\n",
        "        \"num_classes\":13,\n",
        "        \"class_weight\":'balanced',\n",
        "        \"metric\": \"multi_logloss\",\n",
        "        \"verbosity\": -1,\n",
        "        \"boosting_type\": \"gbdt\",\n",
        "    }\n",
        "\n",
        "    model = optuna_integration.lightgbm.train(\n",
        "        params,\n",
        "        dtrain,\n",
        "        valid_sets=[dtrain, dval],\n",
        "        callbacks=[early_stopping(10)],\n",
        "    )\n",
        "\n",
        "    best_params = model.params\n",
        "\n",
        "    print(\"  Params: \")\n",
        "    for key, value in best_params.items():\n",
        "        print(\"    {}: {}\".format(key, value))\n",
        "\n",
        "\n",
        "\n",
        "    clf = lgb.LGBMClassifier(**best_params)\n",
        "\n",
        "    X_train_val = pd.concat([X_train, X_val], axis=0)\n",
        "    y_train_val = pd.concat([y_train, y_val], axis=0)\n",
        "    clf.fit(X_train_val, y_train_val)\n",
        "\n",
        "    y_pred=clf.predict(X_test)\n",
        "\n",
        "    label_list = []\n",
        "    for i in range(13):\n",
        "      label_list.append(class_id_map[i])\n",
        "\n",
        "    true_labels = []\n",
        "    pred_labels = []\n",
        "\n",
        "\n",
        "    for e in y_test:\n",
        "      true_labels.append(class_id_map[e])\n",
        "\n",
        "\n",
        "    for e in y_pred:\n",
        "      pred_labels.append(class_id_map[e])\n",
        "\n",
        "    #print(y_pred)\n",
        "    pred_df=pd.read_csv(project_path+'/Ensemble Data/Literature/fold'+str(fold)+'.csv')\n",
        "    pred_df['LGBM']=y_pred\n",
        "    pred_df.to_csv(project_path+'/Ensemble Data/Literature/fold'+str(fold)+'.csv', index=False)\n",
        "    print(classification_report(true_labels,pred_labels))\n",
        "\n",
        "    report= classification_report(true_labels,pred_labels, output_dict=True)\n",
        "    report_df = pd.DataFrame(report).transpose()\n",
        "    report_df = report_df.round(2)\n",
        "    report_df.to_csv(project_path+'classification report/Literature/lgbm_tfidf/lgbm_fold'+str(fold)+'.csv', index = False)\n",
        "    #report_df.to_csv(str(fold)+'.csv', index = False)\n",
        "    #break"
      ]
    },
    {
      "cell_type": "code",
      "execution_count": null,
      "metadata": {
        "id": "9oVfMZfl3pAn"
      },
      "outputs": [],
      "source": [
        "sup=[0 for i in range(16)]\n",
        "pr=[0 for i in range(16)]\n",
        "rc=[0 for i in range(16)]\n",
        "f1=[0 for i in range(16)]\n",
        "\n",
        "TOTAL_FOLD=10\n",
        "for fold in range(1,TOTAL_FOLD+1):\n",
        "  report_df=pd.read_csv(project_path+'classification report/Literature/lgbm_tfidf/lgbm_fold'+str(fold)+'.csv')\n",
        "  #print(report_df)\n",
        "  for i in range(0,16):\n",
        "    s=report_df['support'][i]\n",
        "    sup[i]=sup[i]+report_df['support'][i]\n",
        "    pr[i]=pr[i]+(s*report_df['precision'][i])\n",
        "    rc[i]=rc[i]+(s*report_df['recall'][i])\n",
        "    f1[i]=f1[i]+(s*report_df['f1-score'][i])\n",
        "\n",
        "for i in range(0,16):\n",
        "  pr[i]=pr[i]/sup[i]\n",
        "  rc[i]=rc[i]/sup[i]\n",
        "  f1[i]=f1[i]/sup[i]\n",
        "  sup[i]=int(sup[i])\n",
        "\n",
        "pr = [ round(i, 2) for i in pr ]\n",
        "rc = [ round(i, 2) for i in rc ]\n",
        "f1 = [ round(i, 2) for i in f1 ]\n",
        "\n",
        "report_df = pd.DataFrame({'pr':pr,'rc':rc,'f1':f1,'sup':sup})\n",
        "print(report_df)\n",
        "report_df.to_csv(project_path+'classification report/Literature/lgbm_tfidf/total.csv')\n",
        "\n"
      ]
    }
  ],
  "metadata": {
    "colab": {
      "provenance": []
    },
    "kernelspec": {
      "display_name": "Python 3",
      "name": "python3"
    },
    "language_info": {
      "codemirror_mode": {
        "name": "ipython",
        "version": 3
      },
      "file_extension": ".py",
      "mimetype": "text/x-python",
      "name": "python",
      "nbconvert_exporter": "python",
      "pygments_lexer": "ipython3",
      "version": "3.6.6"
    }
  },
  "nbformat": 4,
  "nbformat_minor": 0
}